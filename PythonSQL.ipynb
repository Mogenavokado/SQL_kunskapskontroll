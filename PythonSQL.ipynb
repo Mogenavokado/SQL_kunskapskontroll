{
 "cells": [
  {
   "cell_type": "markdown",
   "id": "5f9d9c8d",
   "metadata": {},
   "source": [
    "# Preparation steps"
   ]
  },
  {
   "cell_type": "code",
   "execution_count": 7,
   "id": "dcb52404",
   "metadata": {},
   "outputs": [
    {
     "name": "stdout",
     "output_type": "stream",
     "text": [
      "Requirement already satisfied: sqlalchemy in e:\\anaconda\\envs\\pystat\\lib\\site-packages (2.0.23)\n",
      "Requirement already satisfied: typing-extensions>=4.2.0 in e:\\anaconda\\envs\\pystat\\lib\\site-packages (from sqlalchemy) (4.7.1)\n",
      "Requirement already satisfied: greenlet!=0.4.17 in e:\\anaconda\\envs\\pystat\\lib\\site-packages (from sqlalchemy) (3.0.2)\n",
      "Requirement already satisfied: pyodbc in e:\\anaconda\\envs\\pystat\\lib\\site-packages (5.0.1)\n"
     ]
    }
   ],
   "source": [
    "# Install libraries\n",
    "!pip install sqlalchemy\n",
    "!pip install pyodbc"
   ]
  },
  {
   "cell_type": "code",
   "execution_count": 371,
   "id": "03fd0dcb",
   "metadata": {},
   "outputs": [],
   "source": [
    "# Adding libraries \n",
    "from sqlalchemy import create_engine, MetaData, Table, inspect\n",
    "import pandas as pd\n",
    "import numpy as np\n",
    "import scipy.stats as stats\n",
    "import math as m\n",
    "import matplotlib.pyplot as plt"
   ]
  },
  {
   "cell_type": "code",
   "execution_count": 9,
   "id": "fde6fe3d",
   "metadata": {},
   "outputs": [],
   "source": [
    "# Creating the connection between python and SQL\n",
    "def new_engine(dialect, server, database, user=None, password=None, integrated_security=True):\n",
    "    if integrated_security:\n",
    "        # For Windows autenthication\n",
    "        eng = f\"{dialect}://{server}/{database}?trusted_connection=yes&driver=ODBC+Driver+17+for+SQL+Server\"\n",
    "    else:\n",
    "        # For SQL Server authentication\n",
    "        eng = f\"{dialect}://{user}:{password}@{server}/{database}?driver=ODBC+Driver+17+for+SQL+Server\"\n",
    "    print(eng)\n",
    "    return create_engine(eng)"
   ]
  },
  {
   "cell_type": "code",
   "execution_count": 24,
   "id": "39b6c33b",
   "metadata": {},
   "outputs": [
    {
     "name": "stdout",
     "output_type": "stream",
     "text": [
      "mssql://QUANGS-HUVUDDAT/AdventureWorks2022?trusted_connection=yes&driver=ODBC+Driver+17+for+SQL+Server\n"
     ]
    }
   ],
   "source": [
    "# Our connection to SQL\n",
    "engine = new_engine('mssql','QUANGS-HUVUDDAT','AdventureWorks2022', integrated_security=True)\n",
    "connection = engine.connect()"
   ]
  },
  {
   "cell_type": "code",
   "execution_count": 19,
   "id": "9ad376f1",
   "metadata": {
    "scrolled": true
   },
   "outputs": [
    {
     "name": "stdout",
     "output_type": "stream",
     "text": [
      "<class 'sqlalchemy.engine.base.Engine'>\n"
     ]
    }
   ],
   "source": [
    "#print(type(engine))"
   ]
  },
  {
   "cell_type": "code",
   "execution_count": 46,
   "id": "9ae8e822",
   "metadata": {},
   "outputs": [],
   "source": [
    "#Creating a function to print out SQL querys\n",
    "def Read(Name):\n",
    "    return pd.read_sql(Name, con=connection)"
   ]
  },
  {
   "cell_type": "markdown",
   "id": "4a07944f",
   "metadata": {},
   "source": [
    "# Exploring the database of Adventureworks2022 (Deskriptiv sammanfattning)"
   ]
  },
  {
   "cell_type": "markdown",
   "id": "909357fe",
   "metadata": {},
   "source": [
    "Adventureworks2022 är en exempel databas över ett företag som säljer cyklar. I databasen går det att hitta olika person information, personregister, personal & HR historik, lönehistorik, försäljningshistorik, butiker, inköpshistorik, cykel komponenter, produktion."
   ]
  },
  {
   "cell_type": "code",
   "execution_count": 47,
   "id": "f111dc52",
   "metadata": {},
   "outputs": [
    {
     "data": {
      "text/html": [
       "<div>\n",
       "<style scoped>\n",
       "    .dataframe tbody tr th:only-of-type {\n",
       "        vertical-align: middle;\n",
       "    }\n",
       "\n",
       "    .dataframe tbody tr th {\n",
       "        vertical-align: top;\n",
       "    }\n",
       "\n",
       "    .dataframe thead th {\n",
       "        text-align: right;\n",
       "    }\n",
       "</style>\n",
       "<table border=\"1\" class=\"dataframe\">\n",
       "  <thead>\n",
       "    <tr style=\"text-align: right;\">\n",
       "      <th></th>\n",
       "      <th>TABLE_CATALOG</th>\n",
       "      <th>TABLE_SCHEMA</th>\n",
       "      <th>TABLE_NAME</th>\n",
       "      <th>TABLE_TYPE</th>\n",
       "    </tr>\n",
       "  </thead>\n",
       "  <tbody>\n",
       "    <tr>\n",
       "      <th>0</th>\n",
       "      <td>AdventureWorks2022</td>\n",
       "      <td>dbo</td>\n",
       "      <td>DatabaseLog</td>\n",
       "      <td>BASE TABLE</td>\n",
       "    </tr>\n",
       "    <tr>\n",
       "      <th>1</th>\n",
       "      <td>AdventureWorks2022</td>\n",
       "      <td>dbo</td>\n",
       "      <td>ErrorLog</td>\n",
       "      <td>BASE TABLE</td>\n",
       "    </tr>\n",
       "    <tr>\n",
       "      <th>2</th>\n",
       "      <td>AdventureWorks2022</td>\n",
       "      <td>dbo</td>\n",
       "      <td>AWBuildVersion</td>\n",
       "      <td>BASE TABLE</td>\n",
       "    </tr>\n",
       "    <tr>\n",
       "      <th>3</th>\n",
       "      <td>AdventureWorks2022</td>\n",
       "      <td>HumanResources</td>\n",
       "      <td>vEmployee</td>\n",
       "      <td>VIEW</td>\n",
       "    </tr>\n",
       "    <tr>\n",
       "      <th>4</th>\n",
       "      <td>AdventureWorks2022</td>\n",
       "      <td>HumanResources</td>\n",
       "      <td>vEmployeeDepartment</td>\n",
       "      <td>VIEW</td>\n",
       "    </tr>\n",
       "    <tr>\n",
       "      <th>...</th>\n",
       "      <td>...</td>\n",
       "      <td>...</td>\n",
       "      <td>...</td>\n",
       "      <td>...</td>\n",
       "    </tr>\n",
       "    <tr>\n",
       "      <th>86</th>\n",
       "      <td>AdventureWorks2022</td>\n",
       "      <td>Sales</td>\n",
       "      <td>SalesReason</td>\n",
       "      <td>BASE TABLE</td>\n",
       "    </tr>\n",
       "    <tr>\n",
       "      <th>87</th>\n",
       "      <td>AdventureWorks2022</td>\n",
       "      <td>Sales</td>\n",
       "      <td>SalesPersonQuotaHistory</td>\n",
       "      <td>BASE TABLE</td>\n",
       "    </tr>\n",
       "    <tr>\n",
       "      <th>88</th>\n",
       "      <td>AdventureWorks2022</td>\n",
       "      <td>Sales</td>\n",
       "      <td>SalesOrderDetail</td>\n",
       "      <td>BASE TABLE</td>\n",
       "    </tr>\n",
       "    <tr>\n",
       "      <th>89</th>\n",
       "      <td>AdventureWorks2022</td>\n",
       "      <td>Sales</td>\n",
       "      <td>SalesOrderHeaderSalesReason</td>\n",
       "      <td>BASE TABLE</td>\n",
       "    </tr>\n",
       "    <tr>\n",
       "      <th>90</th>\n",
       "      <td>AdventureWorks2022</td>\n",
       "      <td>Sales</td>\n",
       "      <td>SalesPerson</td>\n",
       "      <td>BASE TABLE</td>\n",
       "    </tr>\n",
       "  </tbody>\n",
       "</table>\n",
       "<p>91 rows × 4 columns</p>\n",
       "</div>"
      ],
      "text/plain": [
       "         TABLE_CATALOG    TABLE_SCHEMA                   TABLE_NAME  \\\n",
       "0   AdventureWorks2022             dbo                  DatabaseLog   \n",
       "1   AdventureWorks2022             dbo                     ErrorLog   \n",
       "2   AdventureWorks2022             dbo               AWBuildVersion   \n",
       "3   AdventureWorks2022  HumanResources                    vEmployee   \n",
       "4   AdventureWorks2022  HumanResources          vEmployeeDepartment   \n",
       "..                 ...             ...                          ...   \n",
       "86  AdventureWorks2022           Sales                  SalesReason   \n",
       "87  AdventureWorks2022           Sales      SalesPersonQuotaHistory   \n",
       "88  AdventureWorks2022           Sales             SalesOrderDetail   \n",
       "89  AdventureWorks2022           Sales  SalesOrderHeaderSalesReason   \n",
       "90  AdventureWorks2022           Sales                  SalesPerson   \n",
       "\n",
       "    TABLE_TYPE  \n",
       "0   BASE TABLE  \n",
       "1   BASE TABLE  \n",
       "2   BASE TABLE  \n",
       "3         VIEW  \n",
       "4         VIEW  \n",
       "..         ...  \n",
       "86  BASE TABLE  \n",
       "87  BASE TABLE  \n",
       "88  BASE TABLE  \n",
       "89  BASE TABLE  \n",
       "90  BASE TABLE  \n",
       "\n",
       "[91 rows x 4 columns]"
      ]
     },
     "execution_count": 47,
     "metadata": {},
     "output_type": "execute_result"
    }
   ],
   "source": [
    "# List of all schemas in adventureworks2022\n",
    "Explore_Database = \"\"\"\n",
    "SELECT *\n",
    "FROM \n",
    "AdventureWorks2022.INFORMATION_SCHEMA.TABLES\n",
    "ORDER BY \n",
    "TABLE_SCHEMA;\n",
    "\"\"\"\n",
    "\n",
    "Read(Explore_Database)"
   ]
  },
  {
   "cell_type": "code",
   "execution_count": 68,
   "id": "a51d5852",
   "metadata": {},
   "outputs": [
    {
     "data": {
      "text/html": [
       "<div>\n",
       "<style scoped>\n",
       "    .dataframe tbody tr th:only-of-type {\n",
       "        vertical-align: middle;\n",
       "    }\n",
       "\n",
       "    .dataframe tbody tr th {\n",
       "        vertical-align: top;\n",
       "    }\n",
       "\n",
       "    .dataframe thead th {\n",
       "        text-align: right;\n",
       "    }\n",
       "</style>\n",
       "<table border=\"1\" class=\"dataframe\">\n",
       "  <thead>\n",
       "    <tr style=\"text-align: right;\">\n",
       "      <th></th>\n",
       "      <th>TABLE_SCHEMA</th>\n",
       "      <th>table_count</th>\n",
       "    </tr>\n",
       "  </thead>\n",
       "  <tbody>\n",
       "    <tr>\n",
       "      <th>0</th>\n",
       "      <td>Person</td>\n",
       "      <td>15</td>\n",
       "    </tr>\n",
       "    <tr>\n",
       "      <th>1</th>\n",
       "      <td>Purchasing</td>\n",
       "      <td>7</td>\n",
       "    </tr>\n",
       "    <tr>\n",
       "      <th>2</th>\n",
       "      <td>HumanResources</td>\n",
       "      <td>12</td>\n",
       "    </tr>\n",
       "    <tr>\n",
       "      <th>3</th>\n",
       "      <td>Sales</td>\n",
       "      <td>26</td>\n",
       "    </tr>\n",
       "    <tr>\n",
       "      <th>4</th>\n",
       "      <td>Production</td>\n",
       "      <td>28</td>\n",
       "    </tr>\n",
       "    <tr>\n",
       "      <th>5</th>\n",
       "      <td>dbo</td>\n",
       "      <td>3</td>\n",
       "    </tr>\n",
       "  </tbody>\n",
       "</table>\n",
       "</div>"
      ],
      "text/plain": [
       "     TABLE_SCHEMA  table_count\n",
       "0          Person           15\n",
       "1      Purchasing            7\n",
       "2  HumanResources           12\n",
       "3           Sales           26\n",
       "4      Production           28\n",
       "5             dbo            3"
      ]
     },
     "execution_count": 68,
     "metadata": {},
     "output_type": "execute_result"
    }
   ],
   "source": [
    "# List of all unique schemas in adventureworks2022\n",
    "TOT_SCHEMAS = \"\"\"\n",
    "SELECT \n",
    "DISTINCT TABLE_SCHEMA, COUNT(TABLE_NAME) AS table_count\n",
    "FROM \n",
    "AdventureWorks2022.INFORMATION_SCHEMA.TABLES\n",
    "GROUP BY \n",
    "TABLE_SCHEMA;\n",
    "\"\"\"\n",
    "Read(TOT_SCHEMAS)"
   ]
  },
  {
   "cell_type": "code",
   "execution_count": 52,
   "id": "34038240",
   "metadata": {},
   "outputs": [
    {
     "data": {
      "text/html": [
       "<div>\n",
       "<style scoped>\n",
       "    .dataframe tbody tr th:only-of-type {\n",
       "        vertical-align: middle;\n",
       "    }\n",
       "\n",
       "    .dataframe tbody tr th {\n",
       "        vertical-align: top;\n",
       "    }\n",
       "\n",
       "    .dataframe thead th {\n",
       "        text-align: right;\n",
       "    }\n",
       "</style>\n",
       "<table border=\"1\" class=\"dataframe\">\n",
       "  <thead>\n",
       "    <tr style=\"text-align: right;\">\n",
       "      <th></th>\n",
       "      <th>Orders_received</th>\n",
       "    </tr>\n",
       "  </thead>\n",
       "  <tbody>\n",
       "    <tr>\n",
       "      <th>0</th>\n",
       "      <td>31465</td>\n",
       "    </tr>\n",
       "  </tbody>\n",
       "</table>\n",
       "</div>"
      ],
      "text/plain": [
       "   Orders_received\n",
       "0            31465"
      ]
     },
     "execution_count": 52,
     "metadata": {},
     "output_type": "execute_result"
    }
   ],
   "source": [
    "# The amount of unique orders received from customers\n",
    "Order_count = \"\"\"\n",
    "SELECT \n",
    "COUNT(DISTINCT SalesOrderID) AS Orders_received\n",
    "FROM \n",
    "Sales.SalesOrderDetail;\"\"\"\n",
    "\n",
    "Read(Order_count)"
   ]
  },
  {
   "cell_type": "code",
   "execution_count": 53,
   "id": "8c803b0b",
   "metadata": {},
   "outputs": [
    {
     "data": {
      "text/html": [
       "<div>\n",
       "<style scoped>\n",
       "    .dataframe tbody tr th:only-of-type {\n",
       "        vertical-align: middle;\n",
       "    }\n",
       "\n",
       "    .dataframe tbody tr th {\n",
       "        vertical-align: top;\n",
       "    }\n",
       "\n",
       "    .dataframe thead th {\n",
       "        text-align: right;\n",
       "    }\n",
       "</style>\n",
       "<table border=\"1\" class=\"dataframe\">\n",
       "  <thead>\n",
       "    <tr style=\"text-align: right;\">\n",
       "      <th></th>\n",
       "      <th>Product_Sell</th>\n",
       "    </tr>\n",
       "  </thead>\n",
       "  <tbody>\n",
       "    <tr>\n",
       "      <th>0</th>\n",
       "      <td>266</td>\n",
       "    </tr>\n",
       "  </tbody>\n",
       "</table>\n",
       "</div>"
      ],
      "text/plain": [
       "   Product_Sell\n",
       "0           266"
      ]
     },
     "execution_count": 53,
     "metadata": {},
     "output_type": "execute_result"
    }
   ],
   "source": [
    "# The amount of unique product the company sells to customers\n",
    "Product_sell = \"\"\"\n",
    "SELECT \n",
    "COUNT(DISTINCT ProductID) AS Product_Sell\n",
    "FROM \n",
    "Sales.SalesOrderDetail;\"\"\"\n",
    "\n",
    "Read(Product_sell)"
   ]
  },
  {
   "cell_type": "code",
   "execution_count": 38,
   "id": "cf279cb6",
   "metadata": {
    "scrolled": false
   },
   "outputs": [
    {
     "data": {
      "text/html": [
       "<div>\n",
       "<style scoped>\n",
       "    .dataframe tbody tr th:only-of-type {\n",
       "        vertical-align: middle;\n",
       "    }\n",
       "\n",
       "    .dataframe tbody tr th {\n",
       "        vertical-align: top;\n",
       "    }\n",
       "\n",
       "    .dataframe thead th {\n",
       "        text-align: right;\n",
       "    }\n",
       "</style>\n",
       "<table border=\"1\" class=\"dataframe\">\n",
       "  <thead>\n",
       "    <tr style=\"text-align: right;\">\n",
       "      <th></th>\n",
       "      <th>ProductID</th>\n",
       "      <th>Order_quantity</th>\n",
       "    </tr>\n",
       "  </thead>\n",
       "  <tbody>\n",
       "    <tr>\n",
       "      <th>0</th>\n",
       "      <td>712</td>\n",
       "      <td>8311</td>\n",
       "    </tr>\n",
       "    <tr>\n",
       "      <th>1</th>\n",
       "      <td>870</td>\n",
       "      <td>6815</td>\n",
       "    </tr>\n",
       "    <tr>\n",
       "      <th>2</th>\n",
       "      <td>711</td>\n",
       "      <td>6743</td>\n",
       "    </tr>\n",
       "    <tr>\n",
       "      <th>3</th>\n",
       "      <td>715</td>\n",
       "      <td>6592</td>\n",
       "    </tr>\n",
       "    <tr>\n",
       "      <th>4</th>\n",
       "      <td>708</td>\n",
       "      <td>6532</td>\n",
       "    </tr>\n",
       "    <tr>\n",
       "      <th>...</th>\n",
       "      <td>...</td>\n",
       "      <td>...</td>\n",
       "    </tr>\n",
       "    <tr>\n",
       "      <th>261</th>\n",
       "      <td>898</td>\n",
       "      <td>15</td>\n",
       "    </tr>\n",
       "    <tr>\n",
       "      <th>262</th>\n",
       "      <td>911</td>\n",
       "      <td>10</td>\n",
       "    </tr>\n",
       "    <tr>\n",
       "      <th>263</th>\n",
       "      <td>943</td>\n",
       "      <td>8</td>\n",
       "    </tr>\n",
       "    <tr>\n",
       "      <th>264</th>\n",
       "      <td>942</td>\n",
       "      <td>7</td>\n",
       "    </tr>\n",
       "    <tr>\n",
       "      <th>265</th>\n",
       "      <td>897</td>\n",
       "      <td>4</td>\n",
       "    </tr>\n",
       "  </tbody>\n",
       "</table>\n",
       "<p>266 rows × 2 columns</p>\n",
       "</div>"
      ],
      "text/plain": [
       "     ProductID  Order_quantity\n",
       "0          712            8311\n",
       "1          870            6815\n",
       "2          711            6743\n",
       "3          715            6592\n",
       "4          708            6532\n",
       "..         ...             ...\n",
       "261        898              15\n",
       "262        911              10\n",
       "263        943               8\n",
       "264        942               7\n",
       "265        897               4\n",
       "\n",
       "[266 rows x 2 columns]"
      ]
     },
     "execution_count": 38,
     "metadata": {},
     "output_type": "execute_result"
    }
   ],
   "source": [
    "# Total orders from each product\n",
    "TOT_Ordersbyproducts = \"\"\"\n",
    "SELECT \n",
    "ProductID, SUM(OrderQty) AS Order_quantity\n",
    "FROM \n",
    "Sales.SalesOrderDetail\n",
    "GROUP \n",
    "BY ProductID\n",
    "ORDER BY \n",
    "Order_quantity DESC;\"\"\"\n",
    "\n",
    "Read(TOT_Ordersbyproducts)"
   ]
  },
  {
   "cell_type": "code",
   "execution_count": 224,
   "id": "8c7be83b",
   "metadata": {},
   "outputs": [
    {
     "data": {
      "text/html": [
       "<div>\n",
       "<style scoped>\n",
       "    .dataframe tbody tr th:only-of-type {\n",
       "        vertical-align: middle;\n",
       "    }\n",
       "\n",
       "    .dataframe tbody tr th {\n",
       "        vertical-align: top;\n",
       "    }\n",
       "\n",
       "    .dataframe thead th {\n",
       "        text-align: right;\n",
       "    }\n",
       "</style>\n",
       "<table border=\"1\" class=\"dataframe\">\n",
       "  <thead>\n",
       "    <tr style=\"text-align: right;\">\n",
       "      <th></th>\n",
       "      <th>CustomerID</th>\n",
       "      <th>Avg_quantity</th>\n",
       "      <th>Avg_Amount</th>\n",
       "    </tr>\n",
       "  </thead>\n",
       "  <tbody>\n",
       "    <tr>\n",
       "      <th>0</th>\n",
       "      <td>30111</td>\n",
       "      <td>4</td>\n",
       "      <td>7277.01</td>\n",
       "    </tr>\n",
       "    <tr>\n",
       "      <th>1</th>\n",
       "      <td>29621</td>\n",
       "      <td>5</td>\n",
       "      <td>6214.26</td>\n",
       "    </tr>\n",
       "    <tr>\n",
       "      <th>2</th>\n",
       "      <td>29624</td>\n",
       "      <td>4</td>\n",
       "      <td>5333.23</td>\n",
       "    </tr>\n",
       "    <tr>\n",
       "      <th>3</th>\n",
       "      <td>29861</td>\n",
       "      <td>5</td>\n",
       "      <td>4805.69</td>\n",
       "    </tr>\n",
       "    <tr>\n",
       "      <th>4</th>\n",
       "      <td>29710</td>\n",
       "      <td>3</td>\n",
       "      <td>4500.27</td>\n",
       "    </tr>\n",
       "    <tr>\n",
       "      <th>...</th>\n",
       "      <td>...</td>\n",
       "      <td>...</td>\n",
       "      <td>...</td>\n",
       "    </tr>\n",
       "    <tr>\n",
       "      <th>19114</th>\n",
       "      <td>28094</td>\n",
       "      <td>1</td>\n",
       "      <td>2.29</td>\n",
       "    </tr>\n",
       "    <tr>\n",
       "      <th>19115</th>\n",
       "      <td>28781</td>\n",
       "      <td>1</td>\n",
       "      <td>2.29</td>\n",
       "    </tr>\n",
       "    <tr>\n",
       "      <th>19116</th>\n",
       "      <td>28968</td>\n",
       "      <td>1</td>\n",
       "      <td>2.29</td>\n",
       "    </tr>\n",
       "    <tr>\n",
       "      <th>19117</th>\n",
       "      <td>27991</td>\n",
       "      <td>1</td>\n",
       "      <td>2.29</td>\n",
       "    </tr>\n",
       "    <tr>\n",
       "      <th>19118</th>\n",
       "      <td>30078</td>\n",
       "      <td>1</td>\n",
       "      <td>1.37</td>\n",
       "    </tr>\n",
       "  </tbody>\n",
       "</table>\n",
       "<p>19119 rows × 3 columns</p>\n",
       "</div>"
      ],
      "text/plain": [
       "       CustomerID  Avg_quantity  Avg_Amount\n",
       "0           30111             4     7277.01\n",
       "1           29621             5     6214.26\n",
       "2           29624             4     5333.23\n",
       "3           29861             5     4805.69\n",
       "4           29710             3     4500.27\n",
       "...           ...           ...         ...\n",
       "19114       28094             1        2.29\n",
       "19115       28781             1        2.29\n",
       "19116       28968             1        2.29\n",
       "19117       27991             1        2.29\n",
       "19118       30078             1        1.37\n",
       "\n",
       "[19119 rows x 3 columns]"
      ]
     },
     "execution_count": 224,
     "metadata": {},
     "output_type": "execute_result"
    }
   ],
   "source": [
    "# Average quantity, average amount each customer spends\n",
    "AVG_Order_spentbycustomer = \"\"\"\n",
    "SELECT\n",
    "A.CustomerID,\n",
    "AVG(B.OrderQty) AS Avg_quantity,\n",
    "ROUND(AVG(B.LineTotal),2) AS Avg_Amount\n",
    "FROM \n",
    "Sales.SalesOrderHeader AS A\n",
    "JOIN \n",
    "Sales.SalesOrderDetail AS B ON A.SalesOrderID = B.SalesOrderID\n",
    "GROUP BY \n",
    "CustomerID\n",
    "ORDER BY \n",
    "Avg_Amount DESC;\"\"\"\n",
    "\n",
    "Read(AVG_Order_spentbycustomer)"
   ]
  },
  {
   "cell_type": "code",
   "execution_count": 66,
   "id": "7605565d",
   "metadata": {},
   "outputs": [
    {
     "data": {
      "text/html": [
       "<div>\n",
       "<style scoped>\n",
       "    .dataframe tbody tr th:only-of-type {\n",
       "        vertical-align: middle;\n",
       "    }\n",
       "\n",
       "    .dataframe tbody tr th {\n",
       "        vertical-align: top;\n",
       "    }\n",
       "\n",
       "    .dataframe thead th {\n",
       "        text-align: right;\n",
       "    }\n",
       "</style>\n",
       "<table border=\"1\" class=\"dataframe\">\n",
       "  <thead>\n",
       "    <tr style=\"text-align: right;\">\n",
       "      <th></th>\n",
       "      <th>Month</th>\n",
       "      <th>Order_QTY</th>\n",
       "    </tr>\n",
       "  </thead>\n",
       "  <tbody>\n",
       "    <tr>\n",
       "      <th>0</th>\n",
       "      <td>March</td>\n",
       "      <td>13899</td>\n",
       "    </tr>\n",
       "    <tr>\n",
       "      <th>1</th>\n",
       "      <td>May</td>\n",
       "      <td>13499</td>\n",
       "    </tr>\n",
       "    <tr>\n",
       "      <th>2</th>\n",
       "      <td>October</td>\n",
       "      <td>11453</td>\n",
       "    </tr>\n",
       "    <tr>\n",
       "      <th>3</th>\n",
       "      <td>July</td>\n",
       "      <td>10961</td>\n",
       "    </tr>\n",
       "    <tr>\n",
       "      <th>4</th>\n",
       "      <td>June</td>\n",
       "      <td>10696</td>\n",
       "    </tr>\n",
       "    <tr>\n",
       "      <th>5</th>\n",
       "      <td>January</td>\n",
       "      <td>10266</td>\n",
       "    </tr>\n",
       "    <tr>\n",
       "      <th>6</th>\n",
       "      <td>September</td>\n",
       "      <td>9611</td>\n",
       "    </tr>\n",
       "    <tr>\n",
       "      <th>7</th>\n",
       "      <td>December</td>\n",
       "      <td>9228</td>\n",
       "    </tr>\n",
       "    <tr>\n",
       "      <th>8</th>\n",
       "      <td>August</td>\n",
       "      <td>8760</td>\n",
       "    </tr>\n",
       "    <tr>\n",
       "      <th>9</th>\n",
       "      <td>April</td>\n",
       "      <td>8346</td>\n",
       "    </tr>\n",
       "    <tr>\n",
       "      <th>10</th>\n",
       "      <td>November</td>\n",
       "      <td>7941</td>\n",
       "    </tr>\n",
       "    <tr>\n",
       "      <th>11</th>\n",
       "      <td>February</td>\n",
       "      <td>6657</td>\n",
       "    </tr>\n",
       "  </tbody>\n",
       "</table>\n",
       "</div>"
      ],
      "text/plain": [
       "        Month  Order_QTY\n",
       "0       March      13899\n",
       "1         May      13499\n",
       "2     October      11453\n",
       "3        July      10961\n",
       "4        June      10696\n",
       "5     January      10266\n",
       "6   September       9611\n",
       "7    December       9228\n",
       "8      August       8760\n",
       "9       April       8346\n",
       "10   November       7941\n",
       "11   February       6657"
      ]
     },
     "execution_count": 66,
     "metadata": {},
     "output_type": "execute_result"
    }
   ],
   "source": [
    "# Total orders per month\n",
    "Month_orders = \"\"\"\n",
    "SELECT \n",
    "FORMAT(OrderDate,'MMMM') AS Month, COUNT(B.SalesOrderID) Order_QTY\n",
    "FROM \n",
    "Sales.SalesOrderHeader AS A\n",
    "JOIN \n",
    "Sales.SalesOrderDetail AS B\n",
    "ON \n",
    "A.SalesOrderID = B.SalesOrderID\n",
    "GROUP BY \n",
    "FORMAT(OrderDate,'MMMM')\n",
    "ORDER BY \n",
    "Order_QTY DESC;\n",
    "\"\"\"\n",
    "\n",
    "Read(Month_orders)"
   ]
  },
  {
   "cell_type": "markdown",
   "id": "409beafd",
   "metadata": {},
   "source": [
    "# Statistics data analysis & confidence interval"
   ]
  },
  {
   "cell_type": "markdown",
   "id": "b2f7e5e2",
   "metadata": {},
   "source": [
    "4 Analyser kommer utföras"
   ]
  },
  {
   "cell_type": "markdown",
   "id": "3d57da58",
   "metadata": {},
   "source": [
    "# 1.Average order spent by customers"
   ]
  },
  {
   "cell_type": "code",
   "execution_count": 313,
   "id": "dc07139d",
   "metadata": {},
   "outputs": [
    {
     "data": {
      "text/html": [
       "<div>\n",
       "<style scoped>\n",
       "    .dataframe tbody tr th:only-of-type {\n",
       "        vertical-align: middle;\n",
       "    }\n",
       "\n",
       "    .dataframe tbody tr th {\n",
       "        vertical-align: top;\n",
       "    }\n",
       "\n",
       "    .dataframe thead th {\n",
       "        text-align: right;\n",
       "    }\n",
       "</style>\n",
       "<table border=\"1\" class=\"dataframe\">\n",
       "  <thead>\n",
       "    <tr style=\"text-align: right;\">\n",
       "      <th></th>\n",
       "      <th>CustomerID</th>\n",
       "      <th>Avg_quantity</th>\n",
       "      <th>Avg_Amount</th>\n",
       "    </tr>\n",
       "  </thead>\n",
       "  <tbody>\n",
       "    <tr>\n",
       "      <th>0</th>\n",
       "      <td>30111</td>\n",
       "      <td>4</td>\n",
       "      <td>7277.01</td>\n",
       "    </tr>\n",
       "    <tr>\n",
       "      <th>1</th>\n",
       "      <td>29621</td>\n",
       "      <td>5</td>\n",
       "      <td>6214.26</td>\n",
       "    </tr>\n",
       "    <tr>\n",
       "      <th>2</th>\n",
       "      <td>29624</td>\n",
       "      <td>4</td>\n",
       "      <td>5333.23</td>\n",
       "    </tr>\n",
       "    <tr>\n",
       "      <th>3</th>\n",
       "      <td>29861</td>\n",
       "      <td>5</td>\n",
       "      <td>4805.69</td>\n",
       "    </tr>\n",
       "    <tr>\n",
       "      <th>4</th>\n",
       "      <td>29710</td>\n",
       "      <td>3</td>\n",
       "      <td>4500.27</td>\n",
       "    </tr>\n",
       "    <tr>\n",
       "      <th>...</th>\n",
       "      <td>...</td>\n",
       "      <td>...</td>\n",
       "      <td>...</td>\n",
       "    </tr>\n",
       "    <tr>\n",
       "      <th>19114</th>\n",
       "      <td>28094</td>\n",
       "      <td>1</td>\n",
       "      <td>2.29</td>\n",
       "    </tr>\n",
       "    <tr>\n",
       "      <th>19115</th>\n",
       "      <td>28781</td>\n",
       "      <td>1</td>\n",
       "      <td>2.29</td>\n",
       "    </tr>\n",
       "    <tr>\n",
       "      <th>19116</th>\n",
       "      <td>28968</td>\n",
       "      <td>1</td>\n",
       "      <td>2.29</td>\n",
       "    </tr>\n",
       "    <tr>\n",
       "      <th>19117</th>\n",
       "      <td>27991</td>\n",
       "      <td>1</td>\n",
       "      <td>2.29</td>\n",
       "    </tr>\n",
       "    <tr>\n",
       "      <th>19118</th>\n",
       "      <td>30078</td>\n",
       "      <td>1</td>\n",
       "      <td>1.37</td>\n",
       "    </tr>\n",
       "  </tbody>\n",
       "</table>\n",
       "<p>19119 rows × 3 columns</p>\n",
       "</div>"
      ],
      "text/plain": [
       "       CustomerID  Avg_quantity  Avg_Amount\n",
       "0           30111             4     7277.01\n",
       "1           29621             5     6214.26\n",
       "2           29624             4     5333.23\n",
       "3           29861             5     4805.69\n",
       "4           29710             3     4500.27\n",
       "...           ...           ...         ...\n",
       "19114       28094             1        2.29\n",
       "19115       28781             1        2.29\n",
       "19116       28968             1        2.29\n",
       "19117       27991             1        2.29\n",
       "19118       30078             1        1.37\n",
       "\n",
       "[19119 rows x 3 columns]"
      ]
     },
     "execution_count": 313,
     "metadata": {},
     "output_type": "execute_result"
    }
   ],
   "source": [
    "# Average quantity, average amount each customer spends\n",
    "AVG_Order_spentbycustomer = \"\"\"\n",
    "SELECT\n",
    "A.CustomerID,\n",
    "AVG(B.OrderQty) AS Avg_quantity,\n",
    "ROUND(AVG(B.LineTotal),2) AS Avg_Amount\n",
    "FROM \n",
    "Sales.SalesOrderHeader AS A\n",
    "JOIN \n",
    "Sales.SalesOrderDetail AS B ON A.SalesOrderID = B.SalesOrderID\n",
    "GROUP BY \n",
    "CustomerID\n",
    "ORDER BY \n",
    "Avg_Amount DESC;\"\"\"\n",
    "\n",
    "Read(AVG_Order_spentbycustomer)"
   ]
  },
  {
   "cell_type": "code",
   "execution_count": 383,
   "id": "a51e98d3",
   "metadata": {
    "scrolled": false
   },
   "outputs": [
    {
     "name": "stdout",
     "output_type": "stream",
     "text": [
      "Confidence Interval for Average Order Amount per Customer: (516.4081296059439, 536.7970139685106)\n"
     ]
    },
    {
     "data": {
      "image/png": "[encoded data removed]",
      "text/plain": [
       "<Figure size 640x480 with 1 Axes>"
      ]
     },
     "metadata": {},
     "output_type": "display_data"
    }
   ],
   "source": [
    "df_Customer = Read(AVG_Order_spentbycustomer)\n",
    "\n",
    "# Calculate Confidence interval for average order spent by customers\n",
    "ci = stats.norm.interval(0.95, loc=np.mean(df_Customer.Avg_Amount), scale=stats.sem(df_Customer.Avg_Amount))\n",
    "print(f\"Confidence Interval for Average Order Amount per Customer: {ci}\")\n",
    "\n",
    "# Add labels and title\n",
    "plt.xlabel('Average Amount')\n",
    "plt.ylabel('Frequency')\n",
    "plt.title('Average order amount spent by customer')\n",
    "\n",
    "#Plotting a histogram from the confidence interval values\n",
    "plt.hist(df_Customer['Avg_Amount'], bins=20, alpha=1)\n",
    "\n",
    "#Scale down to appropiate size\n",
    "plt.xlim(0, 4000)\n",
    "\n",
    "#Add a vertical line at the mean value\n",
    "plt.axvline(x=np.mean(df_Customer.Avg_Amount), color='red', linestyle='dashed', linewidth=3)\n",
    "\n",
    "#Add a shaded region between lower and upper bounds of the confidence interval\n",
    "plt.axvspan(ci[0], ci[1], alpha=0.2, color='blue')\n",
    "plt.show()"
   ]
  },
  {
   "cell_type": "markdown",
   "id": "e4b1497f",
   "metadata": {},
   "source": [
    "Genom att ta en titt på kundernas beteende i köp kan vi observera genomsnitts priset de brukar handla för. Detta kan vara en strategi i förberedelser till vilka produkter företaget kan rabattera av för att få in mer kunder då priset är ungefär där kunderna kommer köpa dem. På så sätt kan företagets bild och omdöme förbättras utifrån en kunds perspektiv, därmed blir det bättre sannolikt för företaget att få en solid grund av kundflöde."
   ]
  },
  {
   "cell_type": "markdown",
   "id": "827da49c",
   "metadata": {},
   "source": [
    " # 2.Orders per month"
   ]
  },
  {
   "cell_type": "code",
   "execution_count": 319,
   "id": "022cbb59",
   "metadata": {
    "scrolled": false
   },
   "outputs": [
    {
     "data": {
      "text/html": [
       "<div>\n",
       "<style scoped>\n",
       "    .dataframe tbody tr th:only-of-type {\n",
       "        vertical-align: middle;\n",
       "    }\n",
       "\n",
       "    .dataframe tbody tr th {\n",
       "        vertical-align: top;\n",
       "    }\n",
       "\n",
       "    .dataframe thead th {\n",
       "        text-align: right;\n",
       "    }\n",
       "</style>\n",
       "<table border=\"1\" class=\"dataframe\">\n",
       "  <thead>\n",
       "    <tr style=\"text-align: right;\">\n",
       "      <th></th>\n",
       "      <th>Month</th>\n",
       "      <th>Order_QTY</th>\n",
       "    </tr>\n",
       "  </thead>\n",
       "  <tbody>\n",
       "    <tr>\n",
       "      <th>0</th>\n",
       "      <td>March</td>\n",
       "      <td>13899</td>\n",
       "    </tr>\n",
       "    <tr>\n",
       "      <th>1</th>\n",
       "      <td>May</td>\n",
       "      <td>13499</td>\n",
       "    </tr>\n",
       "    <tr>\n",
       "      <th>2</th>\n",
       "      <td>October</td>\n",
       "      <td>11453</td>\n",
       "    </tr>\n",
       "    <tr>\n",
       "      <th>3</th>\n",
       "      <td>July</td>\n",
       "      <td>10961</td>\n",
       "    </tr>\n",
       "    <tr>\n",
       "      <th>4</th>\n",
       "      <td>June</td>\n",
       "      <td>10696</td>\n",
       "    </tr>\n",
       "    <tr>\n",
       "      <th>5</th>\n",
       "      <td>January</td>\n",
       "      <td>10266</td>\n",
       "    </tr>\n",
       "    <tr>\n",
       "      <th>6</th>\n",
       "      <td>September</td>\n",
       "      <td>9611</td>\n",
       "    </tr>\n",
       "    <tr>\n",
       "      <th>7</th>\n",
       "      <td>December</td>\n",
       "      <td>9228</td>\n",
       "    </tr>\n",
       "    <tr>\n",
       "      <th>8</th>\n",
       "      <td>August</td>\n",
       "      <td>8760</td>\n",
       "    </tr>\n",
       "    <tr>\n",
       "      <th>9</th>\n",
       "      <td>April</td>\n",
       "      <td>8346</td>\n",
       "    </tr>\n",
       "    <tr>\n",
       "      <th>10</th>\n",
       "      <td>November</td>\n",
       "      <td>7941</td>\n",
       "    </tr>\n",
       "    <tr>\n",
       "      <th>11</th>\n",
       "      <td>February</td>\n",
       "      <td>6657</td>\n",
       "    </tr>\n",
       "  </tbody>\n",
       "</table>\n",
       "</div>"
      ],
      "text/plain": [
       "        Month  Order_QTY\n",
       "0       March      13899\n",
       "1         May      13499\n",
       "2     October      11453\n",
       "3        July      10961\n",
       "4        June      10696\n",
       "5     January      10266\n",
       "6   September       9611\n",
       "7    December       9228\n",
       "8      August       8760\n",
       "9       April       8346\n",
       "10   November       7941\n",
       "11   February       6657"
      ]
     },
     "execution_count": 319,
     "metadata": {},
     "output_type": "execute_result"
    }
   ],
   "source": [
    "# Total orders per month\n",
    "Month_orders = \"\"\"\n",
    "SELECT \n",
    "FORMAT(OrderDate,'MMMM') AS Month, COUNT(B.SalesOrderID) Order_QTY\n",
    "FROM \n",
    "Sales.SalesOrderHeader AS A\n",
    "JOIN \n",
    "Sales.SalesOrderDetail AS B\n",
    "ON \n",
    "A.SalesOrderID = B.SalesOrderID\n",
    "GROUP BY \n",
    "FORMAT(OrderDate,'MMMM')\n",
    "ORDER BY \n",
    "Order_QTY DESC;\n",
    "\"\"\"\n",
    "\n",
    "Read(Month_orders)"
   ]
  },
  {
   "cell_type": "code",
   "execution_count": 378,
   "id": "d187ba75",
   "metadata": {},
   "outputs": [],
   "source": [
    "Month = Read(Month_orders)\n",
    "df_month = Month.Order_QTY\n",
    "\n",
    "# Calculate confidence interval for the average order amount per month\n",
    "ci = stats.norm.interval(0.95, loc=np.mean(df_month), scale=stats.sem(df_month))"
   ]
  },
  {
   "cell_type": "code",
   "execution_count": 382,
   "id": "da712ce0",
   "metadata": {
    "scrolled": false
   },
   "outputs": [
    {
     "name": "stdout",
     "output_type": "stream",
     "text": [
      "Confidence interval for average order per month:(8887.581278667138, 11331.918721332862)\n"
     ]
    },
    {
     "data": {
      "image/png": "[encoded data removed]",
      "text/plain": [
       "<Figure size 1000x500 with 1 Axes>"
      ]
     },
     "metadata": {},
     "output_type": "display_data"
    }
   ],
   "source": [
    "#Create dataset for bar plot\n",
    "month_data = {'Jan': 10266, 'Feb': 6657, 'Mar': 13899, 'Apr': 8346, 'May': 13499,\n",
    "              'Jun': 10696, 'Jul': 10961, 'Aug': 8760, 'Sep': 9611, 'Oct': 11453,\n",
    "             'Nov': 7941, 'Dec': 9228}\n",
    "\n",
    "names = list(month_data.keys())\n",
    "values = list(month_data.values())\n",
    "\n",
    "#plotting a histogram\n",
    "plt.figure(figsize=(10,5))\n",
    "plt.bar(names, values, align='center', label='Orders per month')\n",
    "plt.xlabel('Month')\n",
    "plt.ylabel('Total orders')\n",
    "plt.ylim(0,16000)\n",
    "\n",
    "\n",
    "#adds a vertical line at the mean value\n",
    "plt.axhline(y=np.mean(values), color='red', linestyle='dashed', linewidth=2, label='Mean value')\n",
    "\n",
    "#adds a shaded region between lower and upper bounds of the confidence interval\n",
    "plt.axhspan(ci[0], ci[1], alpha=0.5, color='blue', label='Confidence interval')\n",
    "\n",
    "plt.legend()\n",
    "print (f'Confidence interval for average order per month:{ci}')\n",
    "\n",
    "plt.show()"
   ]
  },
  {
   "cell_type": "markdown",
   "id": "5d5be2b6",
   "metadata": {},
   "source": [
    "Att observera hur månaderna ser ut i företaget kan skapa under vilka perioder företaget säljer bäst och satsar att förbereda planer och strategier inför den perioden för att bringa in vinster.\n",
    "\n",
    "Annan strategi är att kolla på månaderna som prestera sämre och kika in hur företaget skall göra för att förbättra försäljningen där."
   ]
  },
  {
   "cell_type": "code",
   "execution_count": null,
   "id": "820b2e6a",
   "metadata": {},
   "outputs": [],
   "source": [
    "# Annan alternativ till grafen ovan\n",
    "'''\n",
    "Month = Read(Month_orders)\n",
    "df_month = Month.Order_QTY\n",
    "\n",
    "# Calculate confidence interval for the average order amount per month\n",
    "ci = stats.norm.interval(0.95, loc=np.mean(df_month), scale=stats.sem(df_month))\n",
    "\n",
    "print(f\"Confidence Interval for Average Order Amount per month: {ci}\")\n",
    "\n",
    "#plotting a histogram from the confidence interval values\n",
    "plt.figure(figsize =(8,3))\n",
    "plt.hist(df_month, bins=10, alpha=1, color = 'orange')\n",
    "\n",
    "# Add labels and title\n",
    "plt.xlabel('Average Amount')\n",
    "plt.ylabel('Frequency')\n",
    "plt.title('Average order amount per month')\n",
    "\n",
    "\n",
    "#adds a vertical line at the mean value\n",
    "plt.axvline(x=np.mean(df_month), color='red', linestyle='dashed', linewidth=2)\n",
    "\n",
    "#adds a shaded region between lower and upper bounds of the confidence interval\n",
    "plt.axvspan(ci[0], ci[1], alpha=0.2, color='blue')\n",
    "plt.show()\n",
    "'''\n"
   ]
  },
  {
   "cell_type": "markdown",
   "id": "32b952b9",
   "metadata": {},
   "source": [
    "# 3.Salary vs gender"
   ]
  },
  {
   "cell_type": "code",
   "execution_count": 177,
   "id": "9f229a22",
   "metadata": {
    "scrolled": false
   },
   "outputs": [
    {
     "data": {
      "text/html": [
       "<div>\n",
       "<style scoped>\n",
       "    .dataframe tbody tr th:only-of-type {\n",
       "        vertical-align: middle;\n",
       "    }\n",
       "\n",
       "    .dataframe tbody tr th {\n",
       "        vertical-align: top;\n",
       "    }\n",
       "\n",
       "    .dataframe thead th {\n",
       "        text-align: right;\n",
       "    }\n",
       "</style>\n",
       "<table border=\"1\" class=\"dataframe\">\n",
       "  <thead>\n",
       "    <tr style=\"text-align: right;\">\n",
       "      <th></th>\n",
       "      <th>Gender</th>\n",
       "      <th>Rate</th>\n",
       "    </tr>\n",
       "  </thead>\n",
       "  <tbody>\n",
       "    <tr>\n",
       "      <th>0</th>\n",
       "      <td>M</td>\n",
       "      <td>125.5000</td>\n",
       "    </tr>\n",
       "    <tr>\n",
       "      <th>1</th>\n",
       "      <td>F</td>\n",
       "      <td>63.4615</td>\n",
       "    </tr>\n",
       "    <tr>\n",
       "      <th>2</th>\n",
       "      <td>M</td>\n",
       "      <td>43.2692</td>\n",
       "    </tr>\n",
       "    <tr>\n",
       "      <th>3</th>\n",
       "      <td>M</td>\n",
       "      <td>29.8462</td>\n",
       "    </tr>\n",
       "    <tr>\n",
       "      <th>4</th>\n",
       "      <td>F</td>\n",
       "      <td>32.6923</td>\n",
       "    </tr>\n",
       "    <tr>\n",
       "      <th>...</th>\n",
       "      <td>...</td>\n",
       "      <td>...</td>\n",
       "    </tr>\n",
       "    <tr>\n",
       "      <th>285</th>\n",
       "      <td>F</td>\n",
       "      <td>23.0769</td>\n",
       "    </tr>\n",
       "    <tr>\n",
       "      <th>286</th>\n",
       "      <td>F</td>\n",
       "      <td>48.1010</td>\n",
       "    </tr>\n",
       "    <tr>\n",
       "      <th>287</th>\n",
       "      <td>F</td>\n",
       "      <td>23.0769</td>\n",
       "    </tr>\n",
       "    <tr>\n",
       "      <th>288</th>\n",
       "      <td>F</td>\n",
       "      <td>23.0769</td>\n",
       "    </tr>\n",
       "    <tr>\n",
       "      <th>289</th>\n",
       "      <td>M</td>\n",
       "      <td>23.0769</td>\n",
       "    </tr>\n",
       "  </tbody>\n",
       "</table>\n",
       "<p>290 rows × 2 columns</p>\n",
       "</div>"
      ],
      "text/plain": [
       "    Gender      Rate\n",
       "0        M  125.5000\n",
       "1        F   63.4615\n",
       "2        M   43.2692\n",
       "3        M   29.8462\n",
       "4        F   32.6923\n",
       "..     ...       ...\n",
       "285      F   23.0769\n",
       "286      F   48.1010\n",
       "287      F   23.0769\n",
       "288      F   23.0769\n",
       "289      M   23.0769\n",
       "\n",
       "[290 rows x 2 columns]"
      ]
     },
     "execution_count": 177,
     "metadata": {},
     "output_type": "execute_result"
    }
   ],
   "source": [
    "# Lönen för män och kvinnor\n",
    "Salary_gender = \"\"\"\n",
    "SELECT Gender, Rate\n",
    "\n",
    "FROM HumanResources.Employee AS A\n",
    "JOIN HumanResources.EmployeePayHistory AS B\n",
    "ON A.BusinessEntityID = B.BusinessEntityID\n",
    "WHERE RateChangeDate = (SELECT MAX(RateChangeDate)   \n",
    "                        FROM HumanResources.EmployeePayHistory AS A  \n",
    "                        WHERE A.BusinessEntityID = B.BusinessEntityID);\"\"\"\n",
    "df_gender = Read(Salary_gender)\n",
    "df_gender"
   ]
  },
  {
   "cell_type": "code",
   "execution_count": 296,
   "id": "b0dde1d9",
   "metadata": {},
   "outputs": [
    {
     "data": {
      "image/png": "[encoded data removed]",
      "text/plain": [
       "<Figure size 640x480 with 1 Axes>"
      ]
     },
     "metadata": {},
     "output_type": "display_data"
    }
   ],
   "source": [
    "# Create separate dataframes for females and males\n",
    "females = df_gender[df_gender['Gender'] == 'F']\n",
    "males = df_gender[df_gender['Gender'] == 'M']\n",
    "\n",
    "# Create the histogram\n",
    "plt.hist([females['Rate'], males['Rate']], bins=10, label=['Female', 'Male'])\n",
    "\n",
    "# Add labels and title\n",
    "plt.xlabel('Rate')\n",
    "plt.ylabel('Frequency')\n",
    "plt.title('Histogram of Rates by Gender')\n",
    "\n",
    "# Add legend\n",
    "plt.legend()\n",
    "\n",
    "# Show the plot\n",
    "plt.show()"
   ]
  },
  {
   "cell_type": "code",
   "execution_count": 299,
   "id": "2cc3986b",
   "metadata": {},
   "outputs": [
    {
     "data": {
      "text/html": [
       "<div>\n",
       "<style scoped>\n",
       "    .dataframe tbody tr th:only-of-type {\n",
       "        vertical-align: middle;\n",
       "    }\n",
       "\n",
       "    .dataframe tbody tr th {\n",
       "        vertical-align: top;\n",
       "    }\n",
       "\n",
       "    .dataframe thead th {\n",
       "        text-align: right;\n",
       "    }\n",
       "</style>\n",
       "<table border=\"1\" class=\"dataframe\">\n",
       "  <thead>\n",
       "    <tr style=\"text-align: right;\">\n",
       "      <th></th>\n",
       "      <th>Avg_Rate_Female</th>\n",
       "    </tr>\n",
       "  </thead>\n",
       "  <tbody>\n",
       "    <tr>\n",
       "      <th>0</th>\n",
       "      <td>19.2289</td>\n",
       "    </tr>\n",
       "  </tbody>\n",
       "</table>\n",
       "</div>"
      ],
      "text/plain": [
       "   Avg_Rate_Female\n",
       "0          19.2289"
      ]
     },
     "execution_count": 299,
     "metadata": {},
     "output_type": "execute_result"
    }
   ],
   "source": [
    "# Average salary for female\n",
    "Avg_Salary_F = \"\"\"\n",
    "WITH Salary_Gender \n",
    "AS \n",
    "(  SELECT Gender, Rate\n",
    "\n",
    "FROM HumanResources.Employee AS A\n",
    "JOIN HumanResources.EmployeePayHistory AS B\n",
    "ON A.BusinessEntityID = B.BusinessEntityID\n",
    "WHERE RateChangeDate = (SELECT MAX(RateChangeDate)   \n",
    "                        FROM HumanResources.EmployeePayHistory AS A  \n",
    "                        WHERE A.BusinessEntityID = B.BusinessEntityID)\n",
    "\n",
    ")\n",
    "SELECT AVG(Rate) AS Avg_Rate_Female\n",
    "FROM Salary_Gender\n",
    "Where Gender = 'F';\"\"\"\n",
    "\n",
    "Read(Avg_Salary_F)"
   ]
  },
  {
   "cell_type": "code",
   "execution_count": 300,
   "id": "82825eb5",
   "metadata": {
    "scrolled": true
   },
   "outputs": [
    {
     "data": {
      "text/html": [
       "<div>\n",
       "<style scoped>\n",
       "    .dataframe tbody tr th:only-of-type {\n",
       "        vertical-align: middle;\n",
       "    }\n",
       "\n",
       "    .dataframe tbody tr th {\n",
       "        vertical-align: top;\n",
       "    }\n",
       "\n",
       "    .dataframe thead th {\n",
       "        text-align: right;\n",
       "    }\n",
       "</style>\n",
       "<table border=\"1\" class=\"dataframe\">\n",
       "  <thead>\n",
       "    <tr style=\"text-align: right;\">\n",
       "      <th></th>\n",
       "      <th>Avg_Rate_Men</th>\n",
       "    </tr>\n",
       "  </thead>\n",
       "  <tbody>\n",
       "    <tr>\n",
       "      <th>0</th>\n",
       "      <td>17.7638</td>\n",
       "    </tr>\n",
       "  </tbody>\n",
       "</table>\n",
       "</div>"
      ],
      "text/plain": [
       "   Avg_Rate_Men\n",
       "0       17.7638"
      ]
     },
     "execution_count": 300,
     "metadata": {},
     "output_type": "execute_result"
    }
   ],
   "source": [
    "# Average salary for men\n",
    "Avg_Salary_M = \"\"\"\n",
    "WITH Salary_Gender \n",
    "AS \n",
    "(  SELECT  Gender, Rate\n",
    "\n",
    "FROM HumanResources.Employee AS A\n",
    "JOIN HumanResources.EmployeePayHistory AS B\n",
    "ON A.BusinessEntityID = B.BusinessEntityID\n",
    "WHERE RateChangeDate = (SELECT MAX(RateChangeDate)   \n",
    "                        FROM HumanResources.EmployeePayHistory AS A  \n",
    "                        WHERE A.BusinessEntityID = B.BusinessEntityID)\n",
    "\n",
    ")\n",
    "SELECT AVG(Rate) AS Avg_Rate_Men\n",
    "FROM Salary_Gender\n",
    "Where Gender = 'M';\"\"\"\n",
    "Read(Avg_Salary_M)"
   ]
  },
  {
   "cell_type": "markdown",
   "id": "368fac47",
   "metadata": {},
   "source": [
    "Lönestatistik över könsrollen. En kort översikt om hur lönen är upplagd i företaget. En aspekt som HR-personal kanske är intresserad över om dem ska rekryterar nya och vill veta lönebudget så löneförhandlingen går bra samt det ska fungera för företaget och den nya rekryten.\n",
    "\n",
    "En annan tolkning är att observera om lönestatistisken är jämnt fördelat mellan personalen trots deras könsskillnader."
   ]
  },
  {
   "cell_type": "markdown",
   "id": "4315a48f",
   "metadata": {},
   "source": [
    "# 3.5 Confidence intervall between gender differences"
   ]
  },
  {
   "cell_type": "code",
   "execution_count": 301,
   "id": "c0bdf884",
   "metadata": {},
   "outputs": [
    {
     "name": "stdout",
     "output_type": "stream",
     "text": [
      "Number of Females in the company: 84\n"
     ]
    }
   ],
   "source": [
    "# Count the number of rows where the gender is F\n",
    "num_females = len(df_gender[df_gender['Gender'] == 'F'])\n",
    "\n",
    "print(\"Number of Females in the company: {}\".format(num_females))"
   ]
  },
  {
   "cell_type": "code",
   "execution_count": 302,
   "id": "8661e22a",
   "metadata": {},
   "outputs": [
    {
     "name": "stdout",
     "output_type": "stream",
     "text": [
      "Number of Male in the company: 206\n"
     ]
    }
   ],
   "source": [
    "# Count the number of rows where the gender is M\n",
    "num_males = len(df_gender[df_gender['Gender'] == 'M'])\n",
    "\n",
    "print(\"Number of Male in the company: {}\".format(num_males))"
   ]
  },
  {
   "cell_type": "code",
   "execution_count": 309,
   "id": "cf9e898a",
   "metadata": {},
   "outputs": [
    {
     "name": "stdout",
     "output_type": "stream",
     "text": [
      "confidence interval between difference in gender:(0.3684822236246796, 0.4728970867201479)\n"
     ]
    }
   ],
   "source": [
    "p_men = num_males/(num_females + num_males)\n",
    "p_females = num_females/(num_females + num_males)\n",
    "z = 1.96\n",
    "\n",
    "ci_lower = (p_men - p_females) - z*np.sqrt(p_men*(1-p_men)/(num_females + num_males))\n",
    "ci_upper = (p_men - p_females) + z*np.sqrt(p_men*(1-p_men)/(num_females + num_males))\n",
    "print(f'confidence interval between difference in gender:{(ci_lower, ci_upper)}')"
   ]
  },
  {
   "cell_type": "markdown",
   "id": "9dac3dcd",
   "metadata": {},
   "source": [
    "Översiktligt konfidens intervall över könsfördelningen i företaget. Eftersom det är noll (minimal skillnad) i talet så uteslutas det att det inte finns någon köns skillnader i företaget.\n",
    "\n",
    "Annan perspektiv är att företaget inte har någon könsroll som är dominant i sin bransch."
   ]
  },
  {
   "cell_type": "markdown",
   "id": "473a135b",
   "metadata": {},
   "source": [
    "# 4.Age distribution"
   ]
  },
  {
   "cell_type": "code",
   "execution_count": 185,
   "id": "1dd56645",
   "metadata": {},
   "outputs": [
    {
     "data": {
      "text/html": [
       "<div>\n",
       "<style scoped>\n",
       "    .dataframe tbody tr th:only-of-type {\n",
       "        vertical-align: middle;\n",
       "    }\n",
       "\n",
       "    .dataframe tbody tr th {\n",
       "        vertical-align: top;\n",
       "    }\n",
       "\n",
       "    .dataframe thead th {\n",
       "        text-align: right;\n",
       "    }\n",
       "</style>\n",
       "<table border=\"1\" class=\"dataframe\">\n",
       "  <thead>\n",
       "    <tr style=\"text-align: right;\">\n",
       "      <th></th>\n",
       "      <th>BirthDate</th>\n",
       "      <th>Gender</th>\n",
       "    </tr>\n",
       "  </thead>\n",
       "  <tbody>\n",
       "    <tr>\n",
       "      <th>0</th>\n",
       "      <td>1951-10-17</td>\n",
       "      <td>M</td>\n",
       "    </tr>\n",
       "    <tr>\n",
       "      <th>1</th>\n",
       "      <td>1952-03-02</td>\n",
       "      <td>M</td>\n",
       "    </tr>\n",
       "    <tr>\n",
       "      <th>2</th>\n",
       "      <td>1952-05-12</td>\n",
       "      <td>M</td>\n",
       "    </tr>\n",
       "    <tr>\n",
       "      <th>3</th>\n",
       "      <td>1952-09-27</td>\n",
       "      <td>F</td>\n",
       "    </tr>\n",
       "    <tr>\n",
       "      <th>4</th>\n",
       "      <td>1953-04-30</td>\n",
       "      <td>M</td>\n",
       "    </tr>\n",
       "    <tr>\n",
       "      <th>...</th>\n",
       "      <td>...</td>\n",
       "      <td>...</td>\n",
       "    </tr>\n",
       "    <tr>\n",
       "      <th>285</th>\n",
       "      <td>1990-11-01</td>\n",
       "      <td>F</td>\n",
       "    </tr>\n",
       "    <tr>\n",
       "      <th>286</th>\n",
       "      <td>1990-11-04</td>\n",
       "      <td>M</td>\n",
       "    </tr>\n",
       "    <tr>\n",
       "      <th>287</th>\n",
       "      <td>1991-01-04</td>\n",
       "      <td>M</td>\n",
       "    </tr>\n",
       "    <tr>\n",
       "      <th>288</th>\n",
       "      <td>1991-04-06</td>\n",
       "      <td>M</td>\n",
       "    </tr>\n",
       "    <tr>\n",
       "      <th>289</th>\n",
       "      <td>1991-05-31</td>\n",
       "      <td>F</td>\n",
       "    </tr>\n",
       "  </tbody>\n",
       "</table>\n",
       "<p>290 rows × 2 columns</p>\n",
       "</div>"
      ],
      "text/plain": [
       "      BirthDate Gender\n",
       "0    1951-10-17      M\n",
       "1    1952-03-02      M\n",
       "2    1952-05-12      M\n",
       "3    1952-09-27      F\n",
       "4    1953-04-30      M\n",
       "..          ...    ...\n",
       "285  1990-11-01      F\n",
       "286  1990-11-04      M\n",
       "287  1991-01-04      M\n",
       "288  1991-04-06      M\n",
       "289  1991-05-31      F\n",
       "\n",
       "[290 rows x 2 columns]"
      ]
     },
     "execution_count": 185,
     "metadata": {},
     "output_type": "execute_result"
    }
   ],
   "source": [
    "# Showing the age of all the employees\n",
    "Employee_year = \"\"\"\n",
    "SELECT BirthDate, Gender\n",
    "FROM HumanResources.Employee\n",
    "ORDER BY BirthDate;\"\"\"\n",
    "Emp = Read(Employee_year)\n",
    "Emp"
   ]
  },
  {
   "cell_type": "code",
   "execution_count": 377,
   "id": "0e21e500",
   "metadata": {
    "scrolled": false
   },
   "outputs": [
    {
     "data": {
      "text/plain": [
       "<matplotlib.legend.Legend at 0x220ee28afd0>"
      ]
     },
     "execution_count": 377,
     "metadata": {},
     "output_type": "execute_result"
    },
    {
     "data": {
      "image/png": "[encoded data removed]",
      "text/plain": [
       "<Figure size 1200x500 with 2 Axes>"
      ]
     },
     "metadata": {},
     "output_type": "display_data"
    }
   ],
   "source": [
    "# Sort out the dataframe to include only the rows with Gender F or M\n",
    "df_male = Emp[Emp['Gender'] == 'M']\n",
    "df_female = Emp[Emp['Gender'] == 'F']\n",
    "\n",
    "# Create a figure with two subplots\n",
    "fig, (ax1,ax2) = plt.subplots(1, 2, figsize=(12, 5))\n",
    "fig.suptitle('Age distribution by gender')\n",
    "\n",
    "# Plot the male histogram on the first subplot\n",
    "df_male['BirthDate'].hist(ax=ax1, color='brown')\n",
    "ax1.set_xlabel('Year')\n",
    "ax1.set_ylabel('Frequency')\n",
    "ax1.set_title('Age of male employees')\n",
    "ax1.legend(['Male'])\n",
    "\n",
    "# Plot the female histogram on the second subplot\n",
    "df_female['BirthDate'].hist(ax=ax2, color='purple')\n",
    "ax2.set_xlabel('Year')\n",
    "ax2.set_ylabel('Frequency')\n",
    "ax2.set_title('Age of female employees')\n",
    "ax2.legend(['Female'], loc='upper left')\n",
    "\n"
   ]
  },
  {
   "cell_type": "markdown",
   "id": "30b9228a",
   "metadata": {},
   "source": [
    "Åldersfördelnings graf över könsroll. En vy på hur åldern ser ut i företaget. Detta kan hjälpa företaget att se över åldersfördelningen i företaget och hålla koll när det är dags att rekrytera in mer personal då t.ex nuvarande personal närma sig sin pension."
   ]
  }
 ],
 "metadata": {
  "kernelspec": {
   "display_name": "Python 3 (ipykernel)",
   "language": "python",
   "name": "python3"
  },
  "language_info": {
   "codemirror_mode": {
    "name": "ipython",
    "version": 3
   },
   "file_extension": ".py",
   "mimetype": "text/x-python",
   "name": "python",
   "nbconvert_exporter": "python",
   "pygments_lexer": "ipython3",
   "version": "3.9.18"
  }
 },
 "nbformat": 4,
 "nbformat_minor": 5
}
